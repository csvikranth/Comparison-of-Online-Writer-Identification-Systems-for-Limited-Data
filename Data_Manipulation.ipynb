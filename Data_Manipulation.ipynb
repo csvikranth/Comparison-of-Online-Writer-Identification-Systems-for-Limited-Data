{
  "nbformat": 4,
  "nbformat_minor": 0,
  "metadata": {
    "colab": {
      "name": "Data_Manipulation.ipynb",
      "provenance": [],
      "collapsed_sections": []
    },
    "kernelspec": {
      "name": "python3",
      "display_name": "Python 3"
    },
    "language_info": {
      "name": "python"
    }
  },
  "cells": [
    {
      "cell_type": "code",
      "execution_count": 1,
      "metadata": {
        "colab": {
          "base_uri": "https://localhost:8080/"
        },
        "id": "ERmfonOe41Qi",
        "outputId": "33ebaaff-64bc-4a84-b1bd-a0a2984542b7"
      },
      "outputs": [
        {
          "output_type": "stream",
          "name": "stdout",
          "text": [
            "Mounted at /content/drive\n"
          ]
        }
      ],
      "source": [
        "from google.colab import drive\n",
        "drive.mount('/content/drive')"
      ]
    },
    {
      "cell_type": "code",
      "source": [
        "import numpy as np\n",
        "import pandas as pd\n",
        "import csv"
      ],
      "metadata": {
        "id": "c9JNA44k5FjU"
      },
      "execution_count": 3,
      "outputs": []
    },
    {
      "cell_type": "code",
      "source": [
        "with open('/content/drive/MyDrive/Datasets/Split_8_2/Test.csv', 'r') as file:\n",
        "  csvreader = csv.reader(file)\n",
        "  cnt=0\n",
        "  a=[[],[],[],[],[],[],[],[],[],[],[],[],[],[],[],[],[],[]]\n",
        "  for row in csvreader:\n",
        "    if len(row)>2:\n",
        "      cnt+=1\n",
        "      if (cnt%18)-1==0:\n",
        "        a[0].extend(row)\n",
        "      if (cnt%18)-1==1:\n",
        "        a[1].extend(row)\n",
        "      if (cnt%18)-1==2:\n",
        "        a[2].extend(row)\n",
        "      if (cnt%18)-1==3:\n",
        "        a[3].extend(row)\n",
        "      if (cnt%18)-1==4:\n",
        "        a[4].extend(row)\n",
        "      if (cnt%18)-1==5:\n",
        "        a[5].extend(row)\n",
        "      if (cnt%18)-1==6:\n",
        "        a[6].extend(row)\n",
        "      if (cnt%18)-1==7:\n",
        "        a[7].extend(row)\n",
        "      if (cnt%18)-1==8:\n",
        "        a[8].extend(row)\n",
        "      if (cnt%18)-1==9:\n",
        "        a[9].extend(row)\n",
        "      if (cnt%18)-1==10:\n",
        "        a[10].extend(row)\n",
        "      if (cnt%18)-1==11:\n",
        "        a[11].extend(row)\n",
        "      if (cnt%18)-1==12:\n",
        "        a[12].extend(row)\n",
        "      if (cnt%18)-1==13:\n",
        "        a[13].extend(row)\n",
        "      if (cnt%18)-1==14:\n",
        "        a[14].extend(row)\n",
        "      if (cnt%18)-1==15:\n",
        "        a[15].extend(row)\n",
        "      if (cnt%18)-1==16:\n",
        "        a[16].extend(row)\n",
        "      if (cnt%18)-1==-1:\n",
        "        a[17].extend(row)"
      ],
      "metadata": {
        "id": "qh1lIE7Q9ruu"
      },
      "execution_count": 19,
      "outputs": []
    },
    {
      "cell_type": "code",
      "source": [
        "for x in a:\n",
        "  print(len(x))"
      ],
      "metadata": {
        "colab": {
          "base_uri": "https://localhost:8080/"
        },
        "id": "R8UoGjAP1qt0",
        "outputId": "a2c0bca2-19e8-4b62-b2fc-14497ef3aea7"
      },
      "execution_count": 20,
      "outputs": [
        {
          "output_type": "stream",
          "name": "stdout",
          "text": [
            "3556100\n",
            "3556100\n",
            "3556100\n",
            "3556100\n",
            "3556100\n",
            "3556100\n",
            "3556100\n",
            "3556100\n",
            "3556100\n",
            "3556100\n",
            "3556100\n",
            "3556100\n",
            "3556100\n",
            "3556100\n",
            "3556100\n",
            "3556100\n",
            "3556100\n",
            "3556100\n"
          ]
        }
      ]
    },
    {
      "cell_type": "code",
      "source": [
        "for i in range(len(a)):\n",
        "  a[i]=[complex(y) for y in a[i] ]"
      ],
      "metadata": {
        "id": "PA9XooGQ2mhN"
      },
      "execution_count": 25,
      "outputs": []
    },
    {
      "cell_type": "code",
      "source": [
        "from numpy import asarray\n",
        "data = a\n",
        "data = asarray(data)\n",
        "t = np.transpose(data)\n",
        "print(t.shape)"
      ],
      "metadata": {
        "colab": {
          "base_uri": "https://localhost:8080/"
        },
        "id": "llvHO46k1qqW",
        "outputId": "1b0b5e75-af77-4925-ec9d-034ad2218aea"
      },
      "execution_count": 47,
      "outputs": [
        {
          "output_type": "stream",
          "name": "stdout",
          "text": [
            "(3556100, 18)\n"
          ]
        }
      ]
    },
    {
      "cell_type": "code",
      "source": [
        ""
      ],
      "metadata": {
        "id": "CjII5u2N3S7R"
      },
      "execution_count": null,
      "outputs": []
    },
    {
      "cell_type": "code",
      "source": [
        "print(cnt)"
      ],
      "metadata": {
        "colab": {
          "base_uri": "https://localhost:8080/"
        },
        "id": "0EA5tbIDxaXa",
        "outputId": "17440dc8-150f-4005-f8d4-642f3ae0db50"
      },
      "execution_count": 16,
      "outputs": [
        {
          "output_type": "stream",
          "name": "stdout",
          "text": [
            "774\n"
          ]
        }
      ]
    }
  ]
}
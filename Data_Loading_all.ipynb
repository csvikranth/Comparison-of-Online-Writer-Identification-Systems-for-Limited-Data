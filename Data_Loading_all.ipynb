{
  "nbformat": 4,
  "nbformat_minor": 0,
  "metadata": {
    "colab": {
      "name": "Data_Loading_all.ipynb",
      "provenance": [],
      "collapsed_sections": []
    },
    "kernelspec": {
      "name": "python3",
      "display_name": "Python 3"
    },
    "language_info": {
      "name": "python"
    }
  },
  "cells": [
    {
      "cell_type": "code",
      "execution_count": 1,
      "metadata": {
        "colab": {
          "base_uri": "https://localhost:8080/"
        },
        "id": "ERmfonOe41Qi",
        "outputId": "b5b6d2e4-a531-4710-a19f-09aeb5f80d5b"
      },
      "outputs": [
        {
          "output_type": "stream",
          "name": "stdout",
          "text": [
            "Mounted at /content/drive\n"
          ]
        }
      ],
      "source": [
        "from google.colab import drive\n",
        "drive.mount('/content/drive')"
      ]
    },
    {
      "cell_type": "code",
      "source": [
        "import xml.etree.ElementTree as ET  \n",
        "import numpy as np\n",
        "import matplotlib.pyplot as plt\n",
        "from matplotlib.pyplot import figure\n",
        "from statistics import mean\n",
        "import math\n",
        "import os\n",
        "import pandas as pd\n",
        "import scipy.stats as stats\n",
        "import csv\n",
        "from scipy.io import savemat"
      ],
      "metadata": {
        "id": "c9JNA44k5FjU"
      },
      "execution_count": 2,
      "outputs": []
    },
    {
      "cell_type": "code",
      "source": [
        "def extract_features(path,r):\n",
        "  features={}\n",
        "\n",
        "  tree = ET.parse(path)\n",
        "  root = tree.getroot()\n",
        "  a=[]\n",
        "  b=[]\n",
        "  word=[]\n",
        "  all_x=[]\n",
        "  all_y=[]\n",
        "  all_num=[]\n",
        "  x_coordinates = []\n",
        "  y_coordinates = []\n",
        "  num=[]\n",
        "  for i in range(1,len(root)):\n",
        "    for x in root[i]:\n",
        "      if (x.text=='\\n\\t\\t\\t'):\n",
        "        continue\n",
        "      else:\n",
        "        l = list(map(str,x.text.split(',')))\n",
        "        l = [x.strip() for x in l]\n",
        "        for x in l:\n",
        "          xy = list(map(int,x.split(' ')))\n",
        "          x_coordinates.append(xy[0])\n",
        "          y_coordinates.append(xy[1])\n",
        "          num.append(i)\n",
        "        a.append(x_coordinates)\n",
        "        b.append(y_coordinates)\n",
        "        word.append(num)\n",
        "        x_coordinates = []\n",
        "        y_coordinates = []\n",
        "        num=[]  \n",
        "  for i in range(len(a)):\n",
        "    for j in range(len(a[i])):\n",
        "      all_x.append(a[i][j])\n",
        "      all_y.append(b[i][j])\n",
        "      all_num.append(word[i][j])\n",
        "  features['word']= all_num\n",
        "  #Time Stamp\n",
        "  time_stamp = np.arange(0,len(all_x)*0.02,0.02)\n",
        "\n",
        "  #Speed\n",
        "  tracewise_speed=[0]\n",
        "  speed=[]\n",
        "  whole_speed=[]\n",
        "  for i in range(len(a)):\n",
        "    for j in range(1,len(a[i])):\n",
        "      if len(a[i][j:])>=r:\n",
        "        tracewise_speed.append(((a[i][j]-a[i][j-1])**2+(b[i][j]-b[i][j-1])**2)**(0.5)/(0.02*r))\n",
        "      else:\n",
        "        tracewise_speed.append(0)\n",
        "    speed.append(tracewise_speed)\n",
        "    tracewise_speed=[0]\n",
        "  for i in range(len(speed)):\n",
        "    for j in range(len(speed[i])):\n",
        "      whole_speed.append(speed[i][j])\n",
        "  features['speed']=whole_speed\n",
        "\n",
        "  #writing direction\n",
        "  tracewise_cos=[0]\n",
        "  tracewise_sin=[0]\n",
        "  cos=[]\n",
        "  sin=[]\n",
        "  whole_cos=[]\n",
        "  whole_sin=[]\n",
        "  for i in range(len(a)):\n",
        "    for j in range(1,len(a[i])):\n",
        "      if len(a[i][j:])>=r:\n",
        "        l=((a[i][j]-a[i][j-1])**2+(b[i][j]-b[i][j-1])**2)**(0.5)\n",
        "        tracewise_cos.append((a[i][j]-a[i][j-1])/l)\n",
        "        tracewise_sin.append((b[i][j]-b[i][j-1])/l)\n",
        "      else:\n",
        "        tracewise_cos.append(0)\n",
        "        tracewise_sin.append(0)\n",
        "    cos.append(tracewise_cos)\n",
        "    sin.append(tracewise_sin)\n",
        "    tracewise_cos=[0]\n",
        "    tracewise_sin=[0]\n",
        "  for i in range(len(cos)):\n",
        "    for j in range(len(cos[i])):\n",
        "      whole_cos.append(cos[i][j])\n",
        "      whole_sin.append(sin[i][j])\n",
        "  features['writing_direction_x']=whole_cos\n",
        "  features['writing_direction_y']=whole_sin\n",
        "\n",
        "  #Curvature\n",
        "  cur_x=[]\n",
        "  cur_y=[]\n",
        "  tracewise_cur_x=[0]\n",
        "  tracewise_cur_y=[0]\n",
        "  whole_cur_x=[]\n",
        "  whole_cur_y=[]\n",
        "  for i in range(len(cos)):\n",
        "    for j in range(1,len(cos[i])):\n",
        "      if len(cos[i][j:])>=r:\n",
        "        tracewise_cur_x.append(np.cos(cos[i][j-1])*np.cos(cos[i][j])+np.sin(cos[i][j-1])*np.sin(cos[i][j]))\n",
        "        tracewise_cur_y.append(np.cos(sin[i][j-1])*np.sin(sin[i][j])-np.sin(sin[i][j-1])*np.cos(sin[i][j]))\n",
        "      else:\n",
        "        tracewise_cur_x.append(0)\n",
        "        tracewise_cur_y.append(0)\n",
        "    cur_x.append(tracewise_cur_x)\n",
        "    cur_y.append(tracewise_cur_y)\n",
        "    tracewise_cur_x=[0]\n",
        "    tracewise_cur_y=[0]\n",
        "  for i in range(len(cur_x)):\n",
        "    for j in range(len(cur_x[i])):\n",
        "      whole_cur_x.append(cur_x[i][j])\n",
        "      whole_cur_y.append(cur_y[i][j])\n",
        "  features['curvature_x']=whole_cur_x\n",
        "  features['curvature_y']=whole_cur_y\n",
        "  \n",
        "\n",
        "  #Vicinity Aspect\n",
        "  temp_x=[]\n",
        "  temp_y=[]\n",
        "  left_x=[]\n",
        "  right_x=[]\n",
        "  left_y=[]\n",
        "  right_y=[]\n",
        "  var=[]\n",
        "  vc=[]\n",
        "  vl=[]\n",
        "  vs_cos=[]\n",
        "  vs_sin=[]\n",
        "  tracewise_var=[]\n",
        "  for i in range(len(a)):\n",
        "    for j in range(len(a[i])):\n",
        "      if len(a[i])>=(2*r+1):\n",
        "        if len(a[i][:j])>r:\n",
        "          left_x=a[i][j-r:j]\n",
        "        elif len(a[i][:j])<=r:\n",
        "          left_x=a[i][:j]\n",
        "        if len(a[i][j+1:])>r:\n",
        "          right_x=a[i][j+1:j+r+1]\n",
        "        elif len(a[i][j+1:])<=r:\n",
        "          right_x=a[i][j+1:]\n",
        "      elif len(a[i])<(2*r+1):\n",
        "        if len(a[i][:j])>r:\n",
        "          left_x=a[i][j-r:j]\n",
        "        elif len(a[i][:j])<=r:\n",
        "          left_x=a[i][:j]\n",
        "        if len(a[i][j+1:])>r:\n",
        "          right_x=a[i][j+1:j+r+1]\n",
        "        elif len(a[i][j+1:])<=r:\n",
        "          right_x=a[i][j+1:]\n",
        "\n",
        "      if len(b[i])>=(2*r+1):\n",
        "        if len(b[i][:j])>r:\n",
        "          left_y=b[i][j-r:j]\n",
        "        elif len(b[i][:j])<=r:\n",
        "          left_y=b[i][:j]\n",
        "        if len(b[i][j+1:])>r:\n",
        "          right_y=b[i][j+1:j+r+1]\n",
        "        elif len(b[i][j+1:])<=r:\n",
        "          right_y=b[i][j+1:]\n",
        "      elif len(b[i])<(2*r+1):\n",
        "        if len(b[i][:j])>r:\n",
        "          left_y=b[i][j-r:j]\n",
        "        elif len(b[i][:j])<=r:\n",
        "          left_y=b[i][:j]\n",
        "        if len(b[i][j+1:])>r:\n",
        "          right_y=b[i][j+1:j+r+1]\n",
        "        elif len(b[i][j+1:])<=r:\n",
        "          right_y=b[i][j+1:]\n",
        "\n",
        "      left_x.append(a[i][j])\n",
        "      left_y.append(b[i][j])\n",
        "      temp_x=left_x+right_x\n",
        "      temp_y=left_y+right_y\n",
        "      dx=max(temp_x)-min(temp_x)\n",
        "      dy=max(temp_y)-min(temp_y)\n",
        "      if dx+dy==0:\n",
        "        var.append(0)\n",
        "      else:\n",
        "        var.append((dy-dx)/(dx+dy))\n",
        "      \n",
        "      #vicinity_curliness\n",
        "      dist=[]\n",
        "      for k in range(1,len(temp_x)):\n",
        "        dist.append(((temp_x[k]-temp_x[k-1])**2+(temp_y[k]-temp_y[k-1])**2)**(0.5))\n",
        "      if dx+dy==0:\n",
        "        vc.append(0)\n",
        "      else:\n",
        "        vc.append(sum(dist)/max(dx,dy))\n",
        "      dist=[]\n",
        "\n",
        "  features['vicinity_aspect']=var\n",
        "  features['vicinity_curliness']=vc\n",
        "\n",
        "  return(features)"
      ],
      "metadata": {
        "id": "mWbjXuZwf7SL"
      },
      "execution_count": 3,
      "outputs": []
    },
    {
      "cell_type": "code",
      "source": [
        "def normalization(fea):\n",
        "  fea_norm={}\n",
        "  sp=fea['speed'];\n",
        "  fea_norm[\"speed\"] = stats.zscore(sp)\n",
        "  wdx = fea['writing_direction_x'];\n",
        "  fea_norm[\"writing_direction_x\"] = stats.zscore(wdx)\n",
        "  wdy = fea['writing_direction_y'];\n",
        "  fea_norm[\"writing_direction_y\"] = stats.zscore(wdy)\n",
        "  cx = fea['curvature_x'];\n",
        "  fea_norm[\"curvature_x\"] = stats.zscore(cx)\n",
        "  cy = fea['curvature_y'];\n",
        "  fea_norm[\"curvature_y\"] = stats.zscore(cy)\n",
        "  va = fea['vicinity_aspect'];\n",
        "  fea_norm[\"viscinity_aspect\"] = stats.zscore(va)\n",
        "  vc = fea['vicinity_curliness'];\n",
        "  fea_norm[\"viscinity_curliness\"] = stats.zscore(vc)\n",
        "  fea_norm['word']= fea['word']\n",
        "  \n",
        "  return fea_norm\n"
      ],
      "metadata": {
        "id": "9FxGHkKAbYxK"
      },
      "execution_count": 4,
      "outputs": []
    },
    {
      "cell_type": "code",
      "source": [
        "folder='/content/drive/MyDrive/Datasets/query'"
      ],
      "metadata": {
        "id": "pnUbKX6lKTWV"
      },
      "execution_count": 5,
      "outputs": []
    },
    {
      "cell_type": "code",
      "source": [
        "writers=[1,2,3]"
      ],
      "metadata": {
        "id": "i8uR7_NfDwy5"
      },
      "execution_count": 8,
      "outputs": []
    },
    {
      "cell_type": "code",
      "source": [
        "with open('/content/drive/MyDrive/Datasets/2 Features_Codebook Descriptor/Gap_1/Data_1.csv', 'w') as f:\n",
        "  csvwriter = csv.writer(f)\n",
        "  a=[[],[],[],[],[],[],[],[],[],[]]\n",
        "  for x in writers:\n",
        "    writer_path = os.path.join(folder,str(x))\n",
        "    for sample in os.listdir(writer_path):\n",
        "      sample_path=os.path.join(writer_path,sample)\n",
        "      print(sample_path)\n",
        "      features = extract_features(sample_path,1)\n",
        "      normalized = normalization(features)\n",
        "      c=0\n",
        "      for key, values in normalized.items():\n",
        "        if c==7:\n",
        "          break\n",
        "        a[c].extend(normalized[key])\n",
        "        count=len(normalized[key])\n",
        "        c+=1\n",
        "      a[9].extend(normalized['word'])\n",
        "      if sample[1]=='.':\n",
        "        doc=sample[0]\n",
        "      else:\n",
        "        doc=sample[:2]\n",
        "      doc_num=[doc]*count\n",
        "      a[8].extend(doc_num)\n",
        "      if writer_path[-2:-1]=='/':\n",
        "        writer = writer_path[-1:]\n",
        "      else:\n",
        "        writer = writer_path[-2:]\n",
        "      writer_num=[writer]*len(a[0])\n",
        "      a[7].extend(writer_num)\n",
        "  for x in a:\n",
        "    csvwriter.writerow(x)"
      ],
      "metadata": {
        "id": "wP6w0sheJa7Y",
        "colab": {
          "base_uri": "https://localhost:8080/"
        },
        "outputId": "6e9ee869-702b-42a3-ed57-07538f80615f"
      },
      "execution_count": 13,
      "outputs": [
        {
          "output_type": "stream",
          "name": "stdout",
          "text": [
            "/content/drive/MyDrive/Datasets/query/1/62.inkml\n",
            "/content/drive/MyDrive/Datasets/query/1/7.inkml\n",
            "/content/drive/MyDrive/Datasets/query/1/2.inkml\n",
            "/content/drive/MyDrive/Datasets/query/1/44.inkml\n",
            "/content/drive/MyDrive/Datasets/query/1/6.inkml\n",
            "/content/drive/MyDrive/Datasets/query/1/48.inkml\n",
            "/content/drive/MyDrive/Datasets/query/1/46.inkml\n",
            "/content/drive/MyDrive/Datasets/query/1/65.inkml\n",
            "/content/drive/MyDrive/Datasets/query/1/56.inkml\n",
            "/content/drive/MyDrive/Datasets/query/1/68.inkml\n",
            "/content/drive/MyDrive/Datasets/query/1/9.inkml\n",
            "/content/drive/MyDrive/Datasets/query/1/8.inkml\n",
            "/content/drive/MyDrive/Datasets/query/1/38.inkml\n",
            "/content/drive/MyDrive/Datasets/query/1/28.inkml\n",
            "/content/drive/MyDrive/Datasets/query/1/26.inkml\n",
            "/content/drive/MyDrive/Datasets/query/1/50.inkml\n",
            "/content/drive/MyDrive/Datasets/query/1/4.inkml\n",
            "/content/drive/MyDrive/Datasets/query/1/18.inkml\n",
            "/content/drive/MyDrive/Datasets/query/1/30.inkml\n",
            "/content/drive/MyDrive/Datasets/query/1/22.inkml\n",
            "/content/drive/MyDrive/Datasets/query/1/40.inkml\n",
            "/content/drive/MyDrive/Datasets/query/1/54.inkml\n",
            "/content/drive/MyDrive/Datasets/query/1/10.inkml\n",
            "/content/drive/MyDrive/Datasets/query/1/25.inkml\n",
            "/content/drive/MyDrive/Datasets/query/1/52.inkml\n",
            "/content/drive/MyDrive/Datasets/query/1/17.inkml\n",
            "/content/drive/MyDrive/Datasets/query/1/37.inkml\n",
            "/content/drive/MyDrive/Datasets/query/1/58.inkml\n",
            "/content/drive/MyDrive/Datasets/query/1/61.inkml\n",
            "/content/drive/MyDrive/Datasets/query/1/57.inkml\n",
            "/content/drive/MyDrive/Datasets/query/1/59.inkml\n",
            "/content/drive/MyDrive/Datasets/query/1/20.inkml\n",
            "/content/drive/MyDrive/Datasets/query/1/70.inkml\n",
            "/content/drive/MyDrive/Datasets/query/1/3.inkml\n",
            "/content/drive/MyDrive/Datasets/query/1/19.inkml\n",
            "/content/drive/MyDrive/Datasets/query/1/51.inkml\n",
            "/content/drive/MyDrive/Datasets/query/1/24.inkml\n",
            "/content/drive/MyDrive/Datasets/query/1/31.inkml\n",
            "/content/drive/MyDrive/Datasets/query/1/15.inkml\n",
            "/content/drive/MyDrive/Datasets/query/1/39.inkml\n",
            "/content/drive/MyDrive/Datasets/query/1/49.inkml\n",
            "/content/drive/MyDrive/Datasets/query/1/43.inkml\n",
            "/content/drive/MyDrive/Datasets/query/1/64.inkml\n",
            "/content/drive/MyDrive/Datasets/query/1/1.inkml\n",
            "/content/drive/MyDrive/Datasets/query/1/5.inkml\n",
            "/content/drive/MyDrive/Datasets/query/1/41.inkml\n",
            "/content/drive/MyDrive/Datasets/query/1/14.inkml\n",
            "/content/drive/MyDrive/Datasets/query/1/66.inkml\n",
            "/content/drive/MyDrive/Datasets/query/1/16.inkml\n",
            "/content/drive/MyDrive/Datasets/query/1/60.inkml\n",
            "/content/drive/MyDrive/Datasets/query/1/27.inkml\n",
            "/content/drive/MyDrive/Datasets/query/1/47.inkml\n",
            "/content/drive/MyDrive/Datasets/query/1/11.inkml\n",
            "/content/drive/MyDrive/Datasets/query/1/33.inkml\n",
            "/content/drive/MyDrive/Datasets/query/1/23.inkml\n",
            "/content/drive/MyDrive/Datasets/query/1/63.inkml\n",
            "/content/drive/MyDrive/Datasets/query/1/21.inkml\n",
            "/content/drive/MyDrive/Datasets/query/1/45.inkml\n",
            "/content/drive/MyDrive/Datasets/query/1/67.inkml\n",
            "/content/drive/MyDrive/Datasets/query/1/12.inkml\n",
            "/content/drive/MyDrive/Datasets/query/1/13.inkml\n",
            "/content/drive/MyDrive/Datasets/query/1/69.inkml\n",
            "/content/drive/MyDrive/Datasets/query/1/42.inkml\n",
            "/content/drive/MyDrive/Datasets/query/1/36.inkml\n",
            "/content/drive/MyDrive/Datasets/query/1/35.inkml\n",
            "/content/drive/MyDrive/Datasets/query/1/34.inkml\n",
            "/content/drive/MyDrive/Datasets/query/1/53.inkml\n",
            "/content/drive/MyDrive/Datasets/query/1/55.inkml\n",
            "/content/drive/MyDrive/Datasets/query/1/29.inkml\n",
            "/content/drive/MyDrive/Datasets/query/1/32.inkml\n",
            "/content/drive/MyDrive/Datasets/query/2/2.inkml\n",
            "/content/drive/MyDrive/Datasets/query/2/78.inkml\n",
            "/content/drive/MyDrive/Datasets/query/2/81.inkml\n",
            "/content/drive/MyDrive/Datasets/query/2/18.inkml\n",
            "/content/drive/MyDrive/Datasets/query/2/79.inkml\n",
            "/content/drive/MyDrive/Datasets/query/2/27.inkml\n",
            "/content/drive/MyDrive/Datasets/query/2/48.inkml\n",
            "/content/drive/MyDrive/Datasets/query/2/83.inkml\n",
            "/content/drive/MyDrive/Datasets/query/2/60.inkml\n",
            "/content/drive/MyDrive/Datasets/query/2/58.inkml\n",
            "/content/drive/MyDrive/Datasets/query/2/41.inkml\n",
            "/content/drive/MyDrive/Datasets/query/2/3.inkml\n",
            "/content/drive/MyDrive/Datasets/query/2/1.inkml\n",
            "/content/drive/MyDrive/Datasets/query/2/47.inkml\n",
            "/content/drive/MyDrive/Datasets/query/2/54.inkml\n",
            "/content/drive/MyDrive/Datasets/query/2/66.inkml\n",
            "/content/drive/MyDrive/Datasets/query/2/71.inkml\n",
            "/content/drive/MyDrive/Datasets/query/2/21.inkml\n",
            "/content/drive/MyDrive/Datasets/query/2/61.inkml\n",
            "/content/drive/MyDrive/Datasets/query/2/28.inkml\n",
            "/content/drive/MyDrive/Datasets/query/2/89.inkml\n",
            "/content/drive/MyDrive/Datasets/query/2/73.inkml\n",
            "/content/drive/MyDrive/Datasets/query/2/85.inkml\n",
            "/content/drive/MyDrive/Datasets/query/2/30.inkml\n",
            "/content/drive/MyDrive/Datasets/query/2/38.inkml\n",
            "/content/drive/MyDrive/Datasets/query/2/25.inkml\n",
            "/content/drive/MyDrive/Datasets/query/2/11.inkml\n",
            "/content/drive/MyDrive/Datasets/query/2/63.inkml\n",
            "/content/drive/MyDrive/Datasets/query/2/72.inkml\n",
            "/content/drive/MyDrive/Datasets/query/2/17.inkml\n",
            "/content/drive/MyDrive/Datasets/query/2/69.inkml\n",
            "/content/drive/MyDrive/Datasets/query/2/39.inkml\n",
            "/content/drive/MyDrive/Datasets/query/2/16.inkml\n",
            "/content/drive/MyDrive/Datasets/query/2/56.inkml\n",
            "/content/drive/MyDrive/Datasets/query/2/4.inkml\n",
            "/content/drive/MyDrive/Datasets/query/2/52.inkml\n",
            "/content/drive/MyDrive/Datasets/query/2/34.inkml\n",
            "/content/drive/MyDrive/Datasets/query/2/14.inkml\n",
            "/content/drive/MyDrive/Datasets/query/2/76.inkml\n",
            "/content/drive/MyDrive/Datasets/query/2/67.inkml\n",
            "/content/drive/MyDrive/Datasets/query/2/84.inkml\n",
            "/content/drive/MyDrive/Datasets/query/2/19.inkml\n",
            "/content/drive/MyDrive/Datasets/query/2/9.inkml\n",
            "/content/drive/MyDrive/Datasets/query/2/43.inkml\n",
            "/content/drive/MyDrive/Datasets/query/2/42.inkml\n",
            "/content/drive/MyDrive/Datasets/query/2/87.inkml\n",
            "/content/drive/MyDrive/Datasets/query/2/49.inkml\n",
            "/content/drive/MyDrive/Datasets/query/2/91.inkml\n",
            "/content/drive/MyDrive/Datasets/query/2/29.inkml\n",
            "/content/drive/MyDrive/Datasets/query/2/36.inkml\n",
            "/content/drive/MyDrive/Datasets/query/2/65.inkml\n",
            "/content/drive/MyDrive/Datasets/query/2/15.inkml\n",
            "/content/drive/MyDrive/Datasets/query/2/53.inkml\n",
            "/content/drive/MyDrive/Datasets/query/2/86.inkml\n",
            "/content/drive/MyDrive/Datasets/query/2/33.inkml\n",
            "/content/drive/MyDrive/Datasets/query/2/55.inkml\n",
            "/content/drive/MyDrive/Datasets/query/2/5.inkml\n",
            "/content/drive/MyDrive/Datasets/query/2/64.inkml\n",
            "/content/drive/MyDrive/Datasets/query/2/45.inkml\n",
            "/content/drive/MyDrive/Datasets/query/2/24.inkml\n",
            "/content/drive/MyDrive/Datasets/query/2/74.inkml\n",
            "/content/drive/MyDrive/Datasets/query/2/13.inkml\n",
            "/content/drive/MyDrive/Datasets/query/2/44.inkml\n",
            "/content/drive/MyDrive/Datasets/query/2/77.inkml\n",
            "/content/drive/MyDrive/Datasets/query/2/37.inkml\n",
            "/content/drive/MyDrive/Datasets/query/2/62.inkml\n",
            "/content/drive/MyDrive/Datasets/query/2/88.inkml\n",
            "/content/drive/MyDrive/Datasets/query/2/80.inkml\n",
            "/content/drive/MyDrive/Datasets/query/2/40.inkml\n",
            "/content/drive/MyDrive/Datasets/query/2/22.inkml\n",
            "/content/drive/MyDrive/Datasets/query/2/26.inkml\n",
            "/content/drive/MyDrive/Datasets/query/2/32.inkml\n",
            "/content/drive/MyDrive/Datasets/query/2/50.inkml\n",
            "/content/drive/MyDrive/Datasets/query/2/59.inkml\n",
            "/content/drive/MyDrive/Datasets/query/2/31.inkml\n",
            "/content/drive/MyDrive/Datasets/query/2/10.inkml\n",
            "/content/drive/MyDrive/Datasets/query/2/57.inkml\n",
            "/content/drive/MyDrive/Datasets/query/2/75.inkml\n",
            "/content/drive/MyDrive/Datasets/query/2/90.inkml\n",
            "/content/drive/MyDrive/Datasets/query/2/23.inkml\n",
            "/content/drive/MyDrive/Datasets/query/2/46.inkml\n",
            "/content/drive/MyDrive/Datasets/query/2/35.inkml\n",
            "/content/drive/MyDrive/Datasets/query/2/51.inkml\n",
            "/content/drive/MyDrive/Datasets/query/2/8.inkml\n",
            "/content/drive/MyDrive/Datasets/query/2/82.inkml\n",
            "/content/drive/MyDrive/Datasets/query/2/70.inkml\n",
            "/content/drive/MyDrive/Datasets/query/2/68.inkml\n",
            "/content/drive/MyDrive/Datasets/query/2/7.inkml\n",
            "/content/drive/MyDrive/Datasets/query/2/12.inkml\n",
            "/content/drive/MyDrive/Datasets/query/2/20.inkml\n",
            "/content/drive/MyDrive/Datasets/query/2/6.inkml\n",
            "/content/drive/MyDrive/Datasets/query/3/46.inkml\n",
            "/content/drive/MyDrive/Datasets/query/3/3.inkml\n",
            "/content/drive/MyDrive/Datasets/query/3/73.inkml\n",
            "/content/drive/MyDrive/Datasets/query/3/6.inkml\n",
            "/content/drive/MyDrive/Datasets/query/3/72.inkml\n",
            "/content/drive/MyDrive/Datasets/query/3/5.inkml\n",
            "/content/drive/MyDrive/Datasets/query/3/60.inkml\n",
            "/content/drive/MyDrive/Datasets/query/3/51.inkml\n",
            "/content/drive/MyDrive/Datasets/query/3/56.inkml\n",
            "/content/drive/MyDrive/Datasets/query/3/24.inkml\n",
            "/content/drive/MyDrive/Datasets/query/3/14.inkml\n",
            "/content/drive/MyDrive/Datasets/query/3/41.inkml\n",
            "/content/drive/MyDrive/Datasets/query/3/28.inkml\n",
            "/content/drive/MyDrive/Datasets/query/3/45.inkml\n",
            "/content/drive/MyDrive/Datasets/query/3/21.inkml\n",
            "/content/drive/MyDrive/Datasets/query/3/1.inkml\n",
            "/content/drive/MyDrive/Datasets/query/3/61.inkml\n",
            "/content/drive/MyDrive/Datasets/query/3/65.inkml\n",
            "/content/drive/MyDrive/Datasets/query/3/75.inkml\n",
            "/content/drive/MyDrive/Datasets/query/3/38.inkml\n",
            "/content/drive/MyDrive/Datasets/query/3/54.inkml\n",
            "/content/drive/MyDrive/Datasets/query/3/50.inkml\n",
            "/content/drive/MyDrive/Datasets/query/3/66.inkml\n",
            "/content/drive/MyDrive/Datasets/query/3/13.inkml\n",
            "/content/drive/MyDrive/Datasets/query/3/57.inkml\n",
            "/content/drive/MyDrive/Datasets/query/3/53.inkml\n",
            "/content/drive/MyDrive/Datasets/query/3/39.inkml\n",
            "/content/drive/MyDrive/Datasets/query/3/47.inkml\n",
            "/content/drive/MyDrive/Datasets/query/3/11.inkml\n",
            "/content/drive/MyDrive/Datasets/query/3/71.inkml\n",
            "/content/drive/MyDrive/Datasets/query/3/55.inkml\n",
            "/content/drive/MyDrive/Datasets/query/3/20.inkml\n",
            "/content/drive/MyDrive/Datasets/query/3/69.inkml\n",
            "/content/drive/MyDrive/Datasets/query/3/43.inkml\n",
            "/content/drive/MyDrive/Datasets/query/3/26.inkml\n",
            "/content/drive/MyDrive/Datasets/query/3/36.inkml\n",
            "/content/drive/MyDrive/Datasets/query/3/74.inkml\n",
            "/content/drive/MyDrive/Datasets/query/3/67.inkml\n",
            "/content/drive/MyDrive/Datasets/query/3/15.inkml\n",
            "/content/drive/MyDrive/Datasets/query/3/33.inkml\n",
            "/content/drive/MyDrive/Datasets/query/3/49.inkml\n",
            "/content/drive/MyDrive/Datasets/query/3/4.inkml\n",
            "/content/drive/MyDrive/Datasets/query/3/34.inkml\n",
            "/content/drive/MyDrive/Datasets/query/3/58.inkml\n",
            "/content/drive/MyDrive/Datasets/query/3/63.inkml\n",
            "/content/drive/MyDrive/Datasets/query/3/31.inkml\n",
            "/content/drive/MyDrive/Datasets/query/3/44.inkml\n",
            "/content/drive/MyDrive/Datasets/query/3/12.inkml\n",
            "/content/drive/MyDrive/Datasets/query/3/8.inkml\n",
            "/content/drive/MyDrive/Datasets/query/3/59.inkml\n",
            "/content/drive/MyDrive/Datasets/query/3/62.inkml\n",
            "/content/drive/MyDrive/Datasets/query/3/2.inkml\n",
            "/content/drive/MyDrive/Datasets/query/3/23.inkml\n",
            "/content/drive/MyDrive/Datasets/query/3/25.inkml\n",
            "/content/drive/MyDrive/Datasets/query/3/9.inkml\n",
            "/content/drive/MyDrive/Datasets/query/3/27.inkml\n",
            "/content/drive/MyDrive/Datasets/query/3/70.inkml\n",
            "/content/drive/MyDrive/Datasets/query/3/17.inkml\n",
            "/content/drive/MyDrive/Datasets/query/3/64.inkml\n",
            "/content/drive/MyDrive/Datasets/query/3/18.inkml\n",
            "/content/drive/MyDrive/Datasets/query/3/32.inkml\n",
            "/content/drive/MyDrive/Datasets/query/3/76.inkml\n",
            "/content/drive/MyDrive/Datasets/query/3/42.inkml\n",
            "/content/drive/MyDrive/Datasets/query/3/68.inkml\n",
            "/content/drive/MyDrive/Datasets/query/3/10.inkml\n",
            "/content/drive/MyDrive/Datasets/query/3/19.inkml\n",
            "/content/drive/MyDrive/Datasets/query/3/48.inkml\n",
            "/content/drive/MyDrive/Datasets/query/3/7.inkml\n",
            "/content/drive/MyDrive/Datasets/query/3/22.inkml\n",
            "/content/drive/MyDrive/Datasets/query/3/30.inkml\n",
            "/content/drive/MyDrive/Datasets/query/3/52.inkml\n",
            "/content/drive/MyDrive/Datasets/query/3/16.inkml\n",
            "/content/drive/MyDrive/Datasets/query/3/29.inkml\n",
            "/content/drive/MyDrive/Datasets/query/3/35.inkml\n",
            "/content/drive/MyDrive/Datasets/query/3/40.inkml\n",
            "/content/drive/MyDrive/Datasets/query/3/37.inkml\n"
          ]
        }
      ]
    },
    {
      "cell_type": "code",
      "source": [
        "a=[[],[],[],[],[],[],[],[],[],[]]"
      ],
      "metadata": {
        "id": "5Q94cC2pcqCW"
      },
      "execution_count": 14,
      "outputs": []
    },
    {
      "cell_type": "code",
      "source": [
        "a=[[],[],[],[],[],[],[],[],[],[]]\n",
        "with open('/content/drive/MyDrive/Datasets/2 Features_Codebook Descriptor/Gap_1/Data_1.csv') as file:\n",
        "  csvreader=csv.reader(file)\n",
        "  c=0\n",
        "  for row in csvreader:\n",
        "    a[c].extend(row)\n",
        "    c+=1"
      ],
      "metadata": {
        "id": "FGvF5B_5MYWu"
      },
      "execution_count": 15,
      "outputs": []
    },
    {
      "cell_type": "code",
      "source": [
        "from numpy import asarray\n",
        "t = np.transpose(asarray(a))\n",
        "print(t.shape)"
      ],
      "metadata": {
        "colab": {
          "base_uri": "https://localhost:8080/"
        },
        "id": "HySd0NRlDwfo",
        "outputId": "9ed84ef5-6778-48ac-89d4-09737319678f"
      },
      "execution_count": 16,
      "outputs": [
        {
          "output_type": "stream",
          "name": "stdout",
          "text": [
            "(10,)\n"
          ]
        },
        {
          "output_type": "stream",
          "name": "stderr",
          "text": [
            "/usr/local/lib/python3.7/dist-packages/ipykernel_launcher.py:2: VisibleDeprecationWarning: Creating an ndarray from ragged nested sequences (which is a list-or-tuple of lists-or-tuples-or ndarrays with different lengths or shapes) is deprecated. If you meant to do this, you must specify 'dtype=object' when creating the ndarray.\n",
            "  \n"
          ]
        }
      ]
    },
    {
      "cell_type": "code",
      "source": [
        "new=np.zeros(t.shape,dtype='float')"
      ],
      "metadata": {
        "id": "0bz3OM4MNp0Q"
      },
      "execution_count": 17,
      "outputs": []
    },
    {
      "cell_type": "code",
      "source": [
        "for i in range(len(t)):\n",
        "  for j in range(len(t[i])):\n",
        "    new[i][j]=t[i][j]"
      ],
      "metadata": {
        "id": "X836MEO4MYTi",
        "colab": {
          "base_uri": "https://localhost:8080/",
          "height": 200
        },
        "outputId": "19c5caff-72df-4237-9398-af80675a2251"
      },
      "execution_count": 18,
      "outputs": [
        {
          "output_type": "error",
          "ename": "TypeError",
          "evalue": "ignored",
          "traceback": [
            "\u001b[0;31m---------------------------------------------------------------------------\u001b[0m",
            "\u001b[0;31mTypeError\u001b[0m                                 Traceback (most recent call last)",
            "\u001b[0;32m<ipython-input-18-44d7c8ddaa65>\u001b[0m in \u001b[0;36m<module>\u001b[0;34m()\u001b[0m\n\u001b[1;32m      1\u001b[0m \u001b[0;32mfor\u001b[0m \u001b[0mi\u001b[0m \u001b[0;32min\u001b[0m \u001b[0mrange\u001b[0m\u001b[0;34m(\u001b[0m\u001b[0mlen\u001b[0m\u001b[0;34m(\u001b[0m\u001b[0mt\u001b[0m\u001b[0;34m)\u001b[0m\u001b[0;34m)\u001b[0m\u001b[0;34m:\u001b[0m\u001b[0;34m\u001b[0m\u001b[0;34m\u001b[0m\u001b[0m\n\u001b[1;32m      2\u001b[0m   \u001b[0;32mfor\u001b[0m \u001b[0mj\u001b[0m \u001b[0;32min\u001b[0m \u001b[0mrange\u001b[0m\u001b[0;34m(\u001b[0m\u001b[0mlen\u001b[0m\u001b[0;34m(\u001b[0m\u001b[0mt\u001b[0m\u001b[0;34m[\u001b[0m\u001b[0mi\u001b[0m\u001b[0;34m]\u001b[0m\u001b[0;34m)\u001b[0m\u001b[0;34m)\u001b[0m\u001b[0;34m:\u001b[0m\u001b[0;34m\u001b[0m\u001b[0;34m\u001b[0m\u001b[0m\n\u001b[0;32m----> 3\u001b[0;31m     \u001b[0mnew\u001b[0m\u001b[0;34m[\u001b[0m\u001b[0mi\u001b[0m\u001b[0;34m]\u001b[0m\u001b[0;34m[\u001b[0m\u001b[0mj\u001b[0m\u001b[0;34m]\u001b[0m\u001b[0;34m=\u001b[0m\u001b[0mt\u001b[0m\u001b[0;34m[\u001b[0m\u001b[0mi\u001b[0m\u001b[0;34m]\u001b[0m\u001b[0;34m[\u001b[0m\u001b[0mj\u001b[0m\u001b[0;34m]\u001b[0m\u001b[0;34m\u001b[0m\u001b[0;34m\u001b[0m\u001b[0m\n\u001b[0m",
            "\u001b[0;31mTypeError\u001b[0m: 'numpy.float64' object does not support item assignment"
          ]
        }
      ]
    },
    {
      "cell_type": "code",
      "source": [
        "t=[[],[],[],[],[],[],[],[],[],[]]"
      ],
      "metadata": {
        "id": "S9wwBYIXGKVq"
      },
      "execution_count": null,
      "outputs": []
    },
    {
      "cell_type": "code",
      "source": [
        "new.shape"
      ],
      "metadata": {
        "id": "JjM_yXrdMYQq"
      },
      "execution_count": null,
      "outputs": []
    },
    {
      "cell_type": "code",
      "source": [
        "dic = {'data':new}"
      ],
      "metadata": {
        "id": "s2iOGVXPDwcz"
      },
      "execution_count": null,
      "outputs": []
    },
    {
      "cell_type": "code",
      "source": [
        "savemat('/content/drive/MyDrive/Datasets/2 Features_Codebook Descriptor/Gap_1/Data_1.mat',dic)"
      ],
      "metadata": {
        "id": "BtMkYgAqFTrq"
      },
      "execution_count": null,
      "outputs": []
    },
    {
      "cell_type": "code",
      "source": [
        ""
      ],
      "metadata": {
        "id": "PfPg4mcUCDxQ"
      },
      "execution_count": null,
      "outputs": []
    },
    {
      "cell_type": "code",
      "source": [
        ""
      ],
      "metadata": {
        "id": "-6kRFdxdCDt1"
      },
      "execution_count": null,
      "outputs": []
    },
    {
      "cell_type": "code",
      "source": [
        ""
      ],
      "metadata": {
        "id": "JqjuHZZqCDsP"
      },
      "execution_count": null,
      "outputs": []
    },
    {
      "cell_type": "code",
      "source": [
        ""
      ],
      "metadata": {
        "id": "VjBDKnt5CDqb"
      },
      "execution_count": null,
      "outputs": []
    },
    {
      "cell_type": "code",
      "source": [
        ""
      ],
      "metadata": {
        "id": "eAPmzcXPCDoQ"
      },
      "execution_count": null,
      "outputs": []
    },
    {
      "cell_type": "code",
      "source": [
        ""
      ],
      "metadata": {
        "id": "ZBRbgl07CDmo"
      },
      "execution_count": null,
      "outputs": []
    },
    {
      "cell_type": "code",
      "source": [
        ""
      ],
      "metadata": {
        "id": "A3PhmYMgCDlF"
      },
      "execution_count": null,
      "outputs": []
    },
    {
      "cell_type": "code",
      "source": [
        ""
      ],
      "metadata": {
        "id": "Ono3yB0YCDii"
      },
      "execution_count": null,
      "outputs": []
    },
    {
      "cell_type": "code",
      "source": [
        ""
      ],
      "metadata": {
        "id": "8sPwTFgICDg2"
      },
      "execution_count": null,
      "outputs": []
    },
    {
      "cell_type": "code",
      "source": [
        ""
      ],
      "metadata": {
        "id": "aKbzc5DsCDeV"
      },
      "execution_count": null,
      "outputs": []
    },
    {
      "cell_type": "code",
      "source": [
        ""
      ],
      "metadata": {
        "id": "LXMvU4HdCDb3"
      },
      "execution_count": null,
      "outputs": []
    },
    {
      "cell_type": "code",
      "source": [
        "folder='/content/drive/MyDrive/Datasets/query'"
      ],
      "metadata": {
        "id": "sHJb7VoEcC2p"
      },
      "execution_count": null,
      "outputs": []
    },
    {
      "cell_type": "code",
      "source": [
        "nf=[0]*43\n",
        "for x in os.listdir(folder):\n",
        "  writer_path=os.path.join(folder,x)\n",
        "  nf[int(x)-1]=len(os.listdir(writer_path))"
      ],
      "metadata": {
        "id": "XpfrlA2UFToe"
      },
      "execution_count": null,
      "outputs": []
    },
    {
      "cell_type": "code",
      "source": [
        "print(nf)"
      ],
      "metadata": {
        "id": "nFgrrloLFTl6",
        "colab": {
          "base_uri": "https://localhost:8080/"
        },
        "outputId": "67a5ab25-1fe7-4044-902f-d96cc14a5eba"
      },
      "execution_count": null,
      "outputs": [
        {
          "output_type": "stream",
          "name": "stdout",
          "text": [
            "[70, 91, 76, 75, 69, 54, 68, 14, 49, 70, 35, 51, 8, 55, 89, 96, 58, 76, 49, 59, 22, 8, 54, 57, 55, 70, 75, 75, 53, 55, 88, 77, 97, 82, 41, 81, 9, 74, 37, 31, 65, 40, 58]\n"
          ]
        }
      ]
    },
    {
      "cell_type": "code",
      "source": [
        "dic = {'data':nf}"
      ],
      "metadata": {
        "id": "k271R7nucvjA"
      },
      "execution_count": null,
      "outputs": []
    },
    {
      "cell_type": "code",
      "source": [
        "savemat('/content/drive/MyDrive/Datasets/2 Features_Codebook Descriptor/Gap_1/files.mat',dic)"
      ],
      "metadata": {
        "id": "BQ8pqi8FcvgA"
      },
      "execution_count": null,
      "outputs": []
    }
  ]
}
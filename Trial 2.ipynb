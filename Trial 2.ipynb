{
  "nbformat": 4,
  "nbformat_minor": 0,
  "metadata": {
    "colab": {
      "name": "Untitled0.ipynb",
      "provenance": []
    },
    "kernelspec": {
      "name": "python3",
      "display_name": "Python 3"
    },
    "language_info": {
      "name": "python"
    }
  },
  "cells": [
    {
      "cell_type": "code",
      "source": [
        "from google.colab import drive\n",
        "drive.mount('/content/drive')"
      ],
      "metadata": {
        "colab": {
          "base_uri": "https://localhost:8080/"
        },
        "id": "l6FlrjCKzBBj",
        "outputId": "60e868fc-65bd-4f11-831f-3844b28e2071"
      },
      "execution_count": 1,
      "outputs": [
        {
          "output_type": "stream",
          "name": "stdout",
          "text": [
            "Mounted at /content/drive\n"
          ]
        }
      ]
    },
    {
      "cell_type": "code",
      "source": [
        "# This Python 3 environment comes with many helpful analytics libraries installed\n",
        "# It is defined by the kaggle/python docker image: https://github.com/kaggle/docker-python\n",
        "# For example, here's several helpful packages to load in \n",
        "\n",
        "import numpy as np # linear algebra\n",
        "import pandas as pd # data processing, CSV file I/O (e.g. pd.read_csv)\n",
        "\n",
        "# Input data files are available in the \"../input/\" directory.\n",
        "# For example, running this (by clicking run or pressing Shift+Enter) will list all files under the input directory\n",
        "\n",
        "import os\n",
        "print(os.listdir('/content/drive/MyDrive/Datasets/query/1'))\n",
        "\n",
        "# Any results you write to the current directory are saved as output."
      ],
      "metadata": {
        "id": "irAZXB-qvKlf",
        "colab": {
          "base_uri": "https://localhost:8080/"
        },
        "outputId": "aa98ac16-e661-473b-9c9a-e6ed0c900fd8"
      },
      "execution_count": 2,
      "outputs": [
        {
          "output_type": "stream",
          "name": "stdout",
          "text": [
            "['62.inkml', '7.inkml', '2.inkml', '44.inkml', '6.inkml', '48.inkml', '46.inkml', '65.inkml', '56.inkml', '68.inkml', '9.inkml', '8.inkml', '38.inkml', '28.inkml', '26.inkml', '50.inkml', '4.inkml', '18.inkml', '30.inkml', '22.inkml', '40.inkml', '54.inkml', '10.inkml', '25.inkml', '52.inkml', '17.inkml', '37.inkml', '58.inkml', '61.inkml', '57.inkml', '59.inkml', '20.inkml', '70.inkml', '3.inkml', '19.inkml', '51.inkml', '24.inkml', '31.inkml', '15.inkml', '39.inkml', '49.inkml', '43.inkml', '64.inkml', '1.inkml', '5.inkml', '41.inkml', '14.inkml', '66.inkml', '16.inkml', '60.inkml', '27.inkml', '47.inkml', '11.inkml', '33.inkml', '23.inkml', '63.inkml', '21.inkml', '45.inkml', '67.inkml', '12.inkml', '13.inkml', '69.inkml', '42.inkml', '36.inkml', '35.inkml', '34.inkml', '53.inkml', '55.inkml', '29.inkml', '32.inkml']\n"
          ]
        }
      ]
    },
    {
      "cell_type": "code",
      "source": [
        "import matplotlib.pyplot as plt\n",
        "import matplotlib.image as mpimg\n",
        "from skimage.transform import resize\n",
        "import xml.etree.ElementTree as ET\n",
        "import os\n",
        "import numpy as np\n",
        "from tqdm import tqdm\n",
        "import cv2\n",
        "import pandas as pd\n",
        "# import splitfolders"
      ],
      "metadata": {
        "id": "mRdIfRYP7Wmy"
      },
      "execution_count": 3,
      "outputs": []
    },
    {
      "cell_type": "code",
      "source": [
        "path = '/content/drive/MyDrive/Datasets/query/1'\n",
        "def seed_everything(seed):\n",
        "\n",
        "    os.environ['PYTHONHASHSEED'] = str(seed)\n",
        "    np.random.seed(seed)\n",
        "   \n",
        "\n",
        "SEED = 999\n",
        "seed_everything(SEED)"
      ],
      "metadata": {
        "id": "1-4LGYIt7Wjf"
      },
      "execution_count": 9,
      "outputs": []
    },
    {
      "cell_type": "code",
      "source": [
        "def get_traces_data(inkml_file_abs_path):\n",
        "    \n",
        "\n",
        "    traces_data = []\n",
        "    \n",
        "    tree = ET.parse(inkml_file_abs_path)\n",
        "    root = tree.getroot()\n",
        "    doc_namespace = \"{http://www.w3.org/2003/InkML}\"\n",
        "\n",
        "#   'Stores traces_all with their corresponding id'\n",
        "    traces_all = [{'id': trace_tag.get('id'),\n",
        "    \t\t\t\t\t'coords': [[round(float(axis_coord)) if float(axis_coord).is_integer() else round(float(axis_coord) * 10000) \\\n",
        "    \t\t\t\t\t\t\t\t\tfor axis_coord in coord[1:].split(' ')] if coord.startswith(' ') \\\n",
        "    \t\t\t\t\t\t\t\telse [round(float(axis_coord)) if float(axis_coord).is_integer() else round(float(axis_coord) * 10000) \\\n",
        "    \t\t\t\t\t\t\t\t\tfor axis_coord in coord.split(' ')] \\\n",
        "    \t\t\t\t\t\t\tfor coord in (trace_tag.text).replace('\\n', '').split(',')]} \\\n",
        "    \t\t\t\t\t\t\tfor trace_tag in root.findall(doc_namespace + 'trace')]\n",
        "\n",
        "#   'Sort traces_all list by id to make searching for references faster'\n",
        "    traces_all.sort(key=lambda trace_dict: int(trace_dict['id']))\n",
        "\n",
        "#   'Always 1st traceGroup is a redundant wrapper'\n",
        "    traceGroupWrapper = root.find(doc_namespace + 'traceGroup')\n",
        "\n",
        "    if traceGroupWrapper is not None:\n",
        "        for traceGroup in traceGroupWrapper.findall(doc_namespace + 'traceGroup'):\n",
        "\n",
        "            label = traceGroup.find(doc_namespace + 'annotation').text\n",
        "\n",
        "#    'traces of the current traceGroup'\n",
        "            traces_curr = []\n",
        "            for traceView in traceGroup.findall(doc_namespace + 'traceView'):\n",
        "\n",
        "#     'Id reference to specific trace tag corresponding to currently considered label'\n",
        "                traceDataRef = int(traceView.get('traceDataRef'))\n",
        "\n",
        "#     'Each trace is represented by a list of coordinates to connect'\n",
        "                single_trace = traces_all[traceDataRef]['coords']\n",
        "                traces_curr.append(single_trace)\n",
        "\n",
        "            traces_data.append({'label': label, 'trace_group': traces_curr})\n",
        "\n",
        "    else:\n",
        "#             'Consider Validation data that has no labels'\n",
        "        [traces_data.append({'trace_group': [trace['coords']]}) for trace in traces_all]\n",
        "\n",
        "    return traces_data"
      ],
      "metadata": {
        "id": "ATRf8wo67Wa_"
      },
      "execution_count": 10,
      "outputs": []
    },
    {
      "cell_type": "code",
      "source": [
        "def inkml2img(input_path, output_path):\n",
        "#     print(input_path)\n",
        "#     print(pwd)\n",
        "    traces = get_traces_data(input_path)\n",
        "#     print(traces)\n",
        "    path = input_path.split('/')\n",
        "    path = path[len(path)-1].split('.')\n",
        "    path = path[0]+'_'\n",
        "    file_name = 0\n",
        "    for elem in traces:\n",
        "        \n",
        "#         print(elem)\n",
        "#         print('-------------------------')\n",
        "#         print(elem['label'])\n",
        "        \n",
        "        plt.gca().invert_yaxis()\n",
        "        plt.gca().set_aspect('equal', adjustable='box')\n",
        "        plt.axes().get_xaxis().set_visible(False)\n",
        "        plt.axes().get_yaxis().set_visible(False)\n",
        "        plt.axes().spines['top'].set_visible(False)\n",
        "        plt.axes().spines['right'].set_visible(False)\n",
        "        plt.axes().spines['bottom'].set_visible(False)\n",
        "        plt.axes().spines['left'].set_visible(False)\n",
        "        ls = elem['trace_group']\n",
        "        output_path = output_path  \n",
        "        \n",
        "        for subls in ls:\n",
        "#             print(subls)\n",
        "            \n",
        "            data = np.array(subls)\n",
        "#             print(data)\n",
        "            x,y=zip(*data)\n",
        "            plt.plot(x,y,linewidth=2,c='black')\n",
        "            \n",
        "        capital_list = ['A','B','C','F','X','Y']\n",
        "        if elem['label'] in capital_list:\n",
        "            label = 'capital_'+elem['label']\n",
        "        else:\n",
        "            label = elem['label']\n",
        "        ind_output_path = output_path + label       \n",
        "#         print(ind_output_path)\n",
        "        try:\n",
        "            os.mkdir(ind_output_path)\n",
        "        except OSError:\n",
        "#             print (\"Folder %s Already Exists\" % ind_output_path)\n",
        "#             print(OSError.strerror)\n",
        "            pass\n",
        "        else:\n",
        "#             print (\"Successfully created the directory %s \" % ind_output_path)\n",
        "            pass\n",
        "#         print(ind_output_path+'/'+path+str(file_name)+'.png')\n",
        "        if(os.path.isfile(ind_output_path+'/'+path+str(file_name)+'.png')):\n",
        "            # print('1111')\n",
        "            file_name += 1\n",
        "            plt.savefig(ind_output_path+'/'+path+str(file_name)+'.png', bbox_inches='tight', dpi=100)\n",
        "        else:\n",
        "            plt.savefig(ind_output_path+'/'+path+str(file_name)+'.png', bbox_inches='tight', dpi=100)\n",
        "        plt.gcf().clear()"
      ],
      "metadata": {
        "id": "FrTmOK_t7WYH"
      },
      "execution_count": 11,
      "outputs": []
    },
    {
      "cell_type": "code",
      "source": [
        "# path = os.getcwd()\n",
        "files = os.listdir(path)\n",
        "print(files)\n",
        "    "
      ],
      "metadata": {
        "colab": {
          "base_uri": "https://localhost:8080/"
        },
        "id": "ZwD1aCeS7WVY",
        "outputId": "f0544960-9d52-4dae-a678-3b0ccfa7eca8"
      },
      "execution_count": 13,
      "outputs": [
        {
          "output_type": "stream",
          "name": "stdout",
          "text": [
            "['62.inkml', '7.inkml', '2.inkml', '44.inkml', '6.inkml', '48.inkml', '46.inkml', '65.inkml', '56.inkml', '68.inkml', '9.inkml', '8.inkml', '38.inkml', '28.inkml', '26.inkml', '50.inkml', '4.inkml', '18.inkml', '30.inkml', '22.inkml', '40.inkml', '54.inkml', '10.inkml', '25.inkml', '52.inkml', '17.inkml', '37.inkml', '58.inkml', '61.inkml', '57.inkml', '59.inkml', '20.inkml', '70.inkml', '3.inkml', '19.inkml', '51.inkml', '24.inkml', '31.inkml', '15.inkml', '39.inkml', '49.inkml', '43.inkml', '64.inkml', '1.inkml', '5.inkml', '41.inkml', '14.inkml', '66.inkml', '16.inkml', '60.inkml', '27.inkml', '47.inkml', '11.inkml', '33.inkml', '23.inkml', '63.inkml', '21.inkml', '45.inkml', '67.inkml', '12.inkml', '13.inkml', '69.inkml', '42.inkml', '36.inkml', '35.inkml', '34.inkml', '53.inkml', '55.inkml', '29.inkml', '32.inkml']\n"
          ]
        }
      ]
    },
    {
      "cell_type": "code",
      "source": [
        "print(path)"
      ],
      "metadata": {
        "colab": {
          "base_uri": "https://localhost:8080/"
        },
        "id": "pRpiBurJIs8i",
        "outputId": "017ceda3-adf6-4598-e2fe-4f5ae1ed5d85"
      },
      "execution_count": 14,
      "outputs": [
        {
          "output_type": "stream",
          "name": "stdout",
          "text": [
            "/content/drive/MyDrive/Datasets/query/1\n"
          ]
        }
      ]
    },
    {
      "cell_type": "code",
      "source": [
        "for file in tqdm(files):\n",
        "#     print(file)\n",
        "    inkml2img(path+'/'+file,'/content/drive/MyDrive/Untitled folder')"
      ],
      "metadata": {
        "colab": {
          "base_uri": "https://localhost:8080/"
        },
        "id": "zXGmDDXu7WQe",
        "outputId": "3e8ee84c-14d9-4571-e35e-c20611ff9b3f"
      },
      "execution_count": 15,
      "outputs": [
        {
          "output_type": "stream",
          "name": "stderr",
          "text": [
            "100%|██████████| 70/70 [00:19<00:00,  3.52it/s]\n"
          ]
        }
      ]
    },
    {
      "cell_type": "code",
      "source": [
        "print(os.listdir('/content/drive/MyDrive/Untitled folder'))"
      ],
      "metadata": {
        "id": "t9ICcA0K7WNn",
        "colab": {
          "base_uri": "https://localhost:8080/"
        },
        "outputId": "0747962a-df5f-427b-c7ba-36ddc8d2c5ff"
      },
      "execution_count": 17,
      "outputs": [
        {
          "output_type": "stream",
          "name": "stdout",
          "text": [
            "[]\n"
          ]
        }
      ]
    },
    {
      "cell_type": "code",
      "source": [
        ""
      ],
      "metadata": {
        "id": "EuKfepj47WKv"
      },
      "execution_count": null,
      "outputs": []
    },
    {
      "cell_type": "code",
      "source": [
        ""
      ],
      "metadata": {
        "id": "s9bvOR-cvKoG"
      },
      "execution_count": null,
      "outputs": []
    },
    {
      "cell_type": "code",
      "source": [
        ""
      ],
      "metadata": {
        "id": "jsymMvAWvKtV"
      },
      "execution_count": null,
      "outputs": []
    }
  ]
}
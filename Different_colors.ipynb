{
  "nbformat": 4,
  "nbformat_minor": 0,
  "metadata": {
    "colab": {
      "name": "Copy of Different_colors.ipynb",
      "provenance": [],
      "collapsed_sections": []
    },
    "kernelspec": {
      "name": "python3",
      "display_name": "Python 3"
    },
    "language_info": {
      "name": "python"
    }
  },
  "cells": [
    {
      "cell_type": "code",
      "execution_count": 1,
      "metadata": {
        "colab": {
          "base_uri": "https://localhost:8080/"
        },
        "id": "ERmfonOe41Qi",
        "outputId": "50584689-8ba9-44db-9316-7a72bd4b3280"
      },
      "outputs": [
        {
          "output_type": "stream",
          "name": "stdout",
          "text": [
            "Mounted at /content/drive\n"
          ]
        }
      ],
      "source": [
        "from google.colab import drive\n",
        "drive.mount('/content/drive')"
      ]
    },
    {
      "cell_type": "code",
      "source": [
        "import xml.etree.ElementTree as ET  "
      ],
      "metadata": {
        "id": "c9JNA44k5FjU"
      },
      "execution_count": 2,
      "outputs": []
    },
    {
      "cell_type": "code",
      "source": [
        "input_path='/content/drive/MyDrive/Datasets/query/1/1.inkml'"
      ],
      "metadata": {
        "id": "5c2ldZW05Ffp"
      },
      "execution_count": 3,
      "outputs": []
    },
    {
      "cell_type": "code",
      "source": [
        "tree = ET.parse(input_path)\n",
        "root = tree.getroot()\n",
        "root.tag"
      ],
      "metadata": {
        "colab": {
          "base_uri": "https://localhost:8080/",
          "height": 35
        },
        "id": "z51j4XGF5FdM",
        "outputId": "cf31a5b7-ef82-4695-b6c0-0e02b93bea1a"
      },
      "execution_count": 4,
      "outputs": [
        {
          "output_type": "execute_result",
          "data": {
            "application/vnd.google.colaboratory.intrinsic+json": {
              "type": "string"
            },
            "text/plain": [
              "'{http://www.w3.org/2003/InkML}ink'"
            ]
          },
          "metadata": {},
          "execution_count": 4
        }
      ]
    },
    {
      "cell_type": "code",
      "source": [
        "for child in root:\n",
        "  print(child.tag,child.attrib)"
      ],
      "metadata": {
        "colab": {
          "base_uri": "https://localhost:8080/"
        },
        "id": "34_xyas3EnVB",
        "outputId": "523a0ba0-a4ee-4a59-fd9c-d6b8bc450944"
      },
      "execution_count": 5,
      "outputs": [
        {
          "output_type": "stream",
          "name": "stdout",
          "text": [
            "{http://www.w3.org/2003/InkML}annotationXML {}\n",
            "{http://www.w3.org/2003/InkML}traceGroup {'id': 'tg_1'}\n",
            "{http://www.w3.org/2003/InkML}traceGroup {'id': 'tg_2'}\n",
            "{http://www.w3.org/2003/InkML}traceGroup {'id': 'tg_3'}\n",
            "{http://www.w3.org/2003/InkML}traceGroup {'id': 'tg_4'}\n",
            "{http://www.w3.org/2003/InkML}traceGroup {'id': 'tg_5'}\n",
            "{http://www.w3.org/2003/InkML}traceGroup {'id': 'tg_6'}\n",
            "{http://www.w3.org/2003/InkML}traceGroup {'id': 'tg_7'}\n",
            "{http://www.w3.org/2003/InkML}traceGroup {'id': 'tg_8'}\n",
            "{http://www.w3.org/2003/InkML}traceGroup {'id': 'tg_9'}\n",
            "{http://www.w3.org/2003/InkML}traceGroup {'id': 'tg_10'}\n",
            "{http://www.w3.org/2003/InkML}traceGroup {'id': 'tg_11'}\n",
            "{http://www.w3.org/2003/InkML}traceGroup {'id': 'tg_12'}\n",
            "{http://www.w3.org/2003/InkML}traceGroup {'id': 'tg_13'}\n",
            "{http://www.w3.org/2003/InkML}traceGroup {'id': 'tg_14'}\n",
            "{http://www.w3.org/2003/InkML}traceGroup {'id': 'tg_15'}\n",
            "{http://www.w3.org/2003/InkML}traceGroup {'id': 'tg_16'}\n",
            "{http://www.w3.org/2003/InkML}traceGroup {'id': 'tg_17'}\n",
            "{http://www.w3.org/2003/InkML}traceGroup {'id': 'tg_18'}\n",
            "{http://www.w3.org/2003/InkML}traceGroup {'id': 'tg_19'}\n",
            "{http://www.w3.org/2003/InkML}traceGroup {'id': 'tg_20'}\n",
            "{http://www.w3.org/2003/InkML}traceGroup {'id': 'tg_21'}\n",
            "{http://www.w3.org/2003/InkML}traceGroup {'id': 'tg_22'}\n",
            "{http://www.w3.org/2003/InkML}traceGroup {'id': 'tg_23'}\n",
            "{http://www.w3.org/2003/InkML}traceGroup {'id': 'tg_24'}\n",
            "{http://www.w3.org/2003/InkML}traceGroup {'id': 'tg_25'}\n"
          ]
        }
      ]
    },
    {
      "cell_type": "code",
      "source": [
        "for x in root[0]:\n",
        "  print(x.text)"
      ],
      "metadata": {
        "colab": {
          "base_uri": "https://localhost:8080/"
        },
        "id": "hVTUVJz8zWEd",
        "outputId": "5093a679-f21d-497f-8603-26d18bc1b85a"
      },
      "execution_count": 6,
      "outputs": [
        {
          "output_type": "stream",
          "name": "stdout",
          "text": [
            "cursive online handwriting \n",
            "Text\n",
            "English\n",
            "AAR\n",
            "113\n",
            "25\n",
            "186\n",
            " FAC100z Offer Committee employees living hopes community benefits currently month assistant report extended auditor funds months housing new extended away long top economy attorney funds\n"
          ]
        }
      ]
    },
    {
      "cell_type": "code",
      "source": [
        "import matplotlib.pyplot as plt\n",
        "from matplotlib.pyplot import figure"
      ],
      "metadata": {
        "id": "Sm1AxXGaeq_r"
      },
      "execution_count": 7,
      "outputs": []
    },
    {
      "cell_type": "code",
      "source": [
        "f = plt.figure()\n",
        "f.set_figwidth(8)\n",
        "f.set_figheight(6)\n",
        "f.set_dpi(200)\n",
        "a=[]\n",
        "b=[]\n",
        "x_coordinates = []\n",
        "y_coordinates = []\n",
        "for i in range(1,len(root)):\n",
        "  for x in root[i]:\n",
        "    if (x.text=='\\n\\t\\t\\t'):\n",
        "      continue\n",
        "    else:\n",
        "      #print(x.text)\n",
        "      l = list(map(str,x.text.split(',')))\n",
        "      l = [x.strip() for x in l]\n",
        "      #print(l)\n",
        "      for x in l:\n",
        "        xy = list(map(int,x.split(' ')))\n",
        "        x_coordinates.append(xy[0])\n",
        "        y_coordinates.append(xy[1])\n",
        "      #print(x_coordinates)\n",
        "      #print(y_coordinates)\n",
        "        #plt.figure(figsize=(8, 6), dpi=100)\n",
        "        a.append(x_coordinates)\n",
        "        b.append(y_coordinates)\n",
        "        #plt.plot(x_coordinates,y_coordinates)\n",
        "      x_coordinates = []\n",
        "      y_coordinates = []       \n",
        "      \n",
        "      \n",
        "    "
      ],
      "metadata": {
        "id": "Rq-ZyPirFLK4",
        "colab": {
          "base_uri": "https://localhost:8080/",
          "height": 34
        },
        "outputId": "f5e4e2dc-94f5-4045-e4fd-8f4f3e42be95"
      },
      "execution_count": 8,
      "outputs": [
        {
          "output_type": "display_data",
          "data": {
            "text/plain": [
              "<Figure size 1600x1200 with 0 Axes>"
            ]
          },
          "metadata": {}
        }
      ]
    },
    {
      "cell_type": "code",
      "source": [
        "print(len(a),len(b))\n",
        "print(len(a[0]))\n"
      ],
      "metadata": {
        "id": "PnEHOltTOH7-",
        "colab": {
          "base_uri": "https://localhost:8080/"
        },
        "outputId": "a46f17aa-648d-4a0d-e2aa-4479456f0ea2"
      },
      "execution_count": 10,
      "outputs": [
        {
          "output_type": "stream",
          "name": "stdout",
          "text": [
            "8839 8839\n",
            "88\n"
          ]
        }
      ]
    },
    {
      "cell_type": "code",
      "source": [
        "print(len(a[0]))\n",
        "k=[]\n",
        "for i in range(len(a[0])-1):\n",
        "  k.append(((a[0][i+1]-a[0][i])**2+(b[0][i+1]-b[0][i])**2)**(0.5))"
      ],
      "metadata": {
        "id": "y3XIcT0COIC4",
        "colab": {
          "base_uri": "https://localhost:8080/"
        },
        "outputId": "500d94f4-eb6a-4e7d-b323-3da7bada4a55"
      },
      "execution_count": null,
      "outputs": [
        {
          "output_type": "stream",
          "name": "stdout",
          "text": [
            "88\n"
          ]
        }
      ]
    },
    {
      "cell_type": "code",
      "source": [
        "print(len(k))\n",
        "print(k)"
      ],
      "metadata": {
        "id": "TVt6cidtOIGO",
        "colab": {
          "base_uri": "https://localhost:8080/"
        },
        "outputId": "68fe9fcd-9158-4c4d-b0a8-ac63d15707ac"
      },
      "execution_count": null,
      "outputs": [
        {
          "output_type": "stream",
          "name": "stdout",
          "text": [
            "87\n",
            "[2.0, 2.0, 2.8284271247461903, 1.0, 2.23606797749979, 2.0, 2.0, 2.8284271247461903, 1.0, 2.0, 2.8284271247461903, 2.0, 1.0, 2.0, 2.0, 2.0, 2.0, 2.0, 2.0, 3.0, 5.385164807134504, 6.0, 5.385164807134504, 7.0, 9.055385138137417, 9.0, 9.0, 9.219544457292887, 7.0, 9.0, 9.0, 7.0, 7.0, 5.0, 6.0, 5.385164807134504, 4.0, 1.0, 2.0, 2.0, 2.0, 2.0, 3.0, 6.324555320336759, 5.0, 9.0, 9.219544457292887, 9.055385138137417, 9.0, 8.246211251235321, 8.0, 7.280109889280518, 7.0, 5.385164807134504, 7.0710678118654755, 6.0, 5.385164807134504, 5.0, 4.47213595499958, 3.0, 2.0, 2.0, 2.0, 1.0, 1.0, 2.0, 2.8284271247461903, 3.605551275463989, 2.8284271247461903, 3.1622776601683795, 4.0, 5.385164807134504, 4.47213595499958, 5.0, 6.324555320336759, 5.0, 5.385164807134504, 4.0, 5.0, 4.0, 3.0, 4.0, 3.0, 2.0, 2.0, 2.0, 1.0]\n"
          ]
        }
      ]
    },
    {
      "cell_type": "code",
      "source": [
        ""
      ],
      "metadata": {
        "id": "4SxedKsNOIJq"
      },
      "execution_count": null,
      "outputs": []
    },
    {
      "cell_type": "code",
      "source": [
        ""
      ],
      "metadata": {
        "id": "DCKtV46fOINN"
      },
      "execution_count": null,
      "outputs": []
    },
    {
      "cell_type": "code",
      "source": [
        ""
      ],
      "metadata": {
        "id": "kjI7gBY-OIOD"
      },
      "execution_count": null,
      "outputs": []
    }
  ]
}